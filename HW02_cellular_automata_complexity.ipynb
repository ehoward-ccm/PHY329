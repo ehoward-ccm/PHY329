{
 "cells": [
  {
   "cell_type": "markdown",
   "id": "2a9d54a3",
   "metadata": {},
   "source": [
    "# Graph traversal, cellular automata, and percolation \n",
    "\n",
    "Imports: Make sure these are installed in your conda env, and that the conda env is active in your notebook\n",
    "+ numpy\n",
    "+ matplotlib\n",
    "+ scipy\n",
    "+ jupyter\n",
    "\n",
    "For interactive plots:\n",
    "\n",
    "+ ipykernel"
   ]
  },
  {
   "cell_type": "markdown",
   "id": "a84a2e46",
   "metadata": {},
   "source": [
    "**A note on cloud-hosted notebooks.** If you are running a notebook on a cloud provider, such as Google Colab or CodeOcean, remember to save your work frequently. Cloud notebooks will occasionally restart after a fixed duration, crash, or prolonged inactivity, requiring you to re-run code.\n",
    "\n",
    "<!-- [Click here to open this notebook in Colab](https://colab.research.google.com/github/williamgilpin/cphy/blob/main/hw/cellular_automata_complexity.ipynb) -->\n",
    "[![Open In Colab](https://colab.research.google.com/assets/colab-badge.svg)](https://colab.research.google.com/github/williamgilpin/cphy/blob/main/hw/cellular_automata_complexity.ipynb)\n",
    "\n"
   ]
  },
  {
   "cell_type": "code",
   "execution_count": 48,
   "id": "9ee03d2d-906b-4dee-aee1-b48f2a17a887",
   "metadata": {},
   "outputs": [
    {
     "name": "stdout",
     "output_type": "stream",
     "text": [
      "The autoreload extension is already loaded. To reload it, use:\n",
      "  %reload_ext autoreload\n"
     ]
    }
   ],
   "source": [
    "import numpy as np\n",
    "import matplotlib.pyplot as plt\n",
    "%matplotlib inline\n",
    "\n",
    "%load_ext autoreload\n",
    "%autoreload 2"
   ]
  },
  {
   "cell_type": "markdown",
   "id": "05a02d70",
   "metadata": {},
   "source": [
    "# The Abelian sandpile\n",
    "\n",
    "### Background\n",
    "\n",
    "We are going to implement the celebrated [Bak-Tang-Wiesenfeld model](https://journals.aps.org/prl/abstract/10.1103/PhysRevLett.59.381), also known as the \"Abelian sandpile.\" This cellular automaton describes a lattice in which sand grains are continuously dropped onto random locations at a fixed rate, resulting in the formation of random sandpiles. When the sandpiles grow too high, they topple, resulting in avalanches that distribute grains to all of their neighbors.\n",
    "\n",
    "If we denote the number of grains at a site $(x, y)$ as $z(x, y)$, a single \"topple\" event of the BTW model has the following update rule, which triggers only when $z \\geq 4$.\n",
    "\n",
    "$$\n",
    "z(x, y) \\rightarrow z(x, y) - 4\n",
    "$$\n",
    "\n",
    "$$\n",
    "\\begin{array}{lr}\n",
    "    z(x + 1, y) \\leftarrow z(x + 1, y) + 1    \\\\\n",
    "    z(x - 1, y) \\leftarrow z(x - 1, y) + 1    \\\\\n",
    "    z(x, y + 1) \\leftarrow z(x, y + 1) + 1    \\\\\n",
    "    z(x, y - 1) \\leftarrow z(x, y - 1) + 1    \\\\\n",
    "\\end{array}\n",
    "$$\n",
    "\n",
    "A topple event thus consists of a single site decreasing in height by four grains, and then distributing these grains to each of its north, south, east, and west neighbors---but not its diagonal neighbors.\n",
    "\n",
    "After a single topple event, the entire lattice is checked again to see if any other sites now have $z \\geq 4$, in which case those sites are toppled, too. If a site located at the boundary of the domain topples, then any grains that would go out of bounds are assumed to be permanently lost from the system. After all sites reach a state where $z \\leq 4$, the avalanche has concluded. We then add a sand grain to a random new site, and calculate any new resulting avalanches.\n",
    "\n",
    "This idealized system has several interesting properties: the continuous addition of grains represents a slow-timescale driving process, which effectively injects energy into the system. The avalances represent fast-timescale response dynamics, and the grains that fall off the edges represent dissipation---they prevent avalanches from continuing forever undriven. Despite its seeming simplicity, the BTK model represents perhaps the earliest widely-studied toy model of \"self-organized criticality,\" a well-known hypothesis in nonequilibrium statistical physics that driven, dissipative systems tend to tune themselves into maximally-critical states (there are always sandpiles on the verge of toppling). The sandpile has been used as a thought experiment describing an incredible array of diverse systems, including: starts and stops in dragging friction, [earthquakes](https://agupubs.onlinelibrary.wiley.com/doi/abs/10.1029/JB094iB11p15635), timings between geyser eruptions, [timings of pulsar glitches](https://arxiv.org/abs/1403.6528), [fluctuations in an ultracold atomic gas](https://www.nature.com/articles/s41586-019-1908-6), [neuronal activity patterns in the brain](https://www.frontiersin.org/articles/10.3389/fnsys.2014.00166/full), [flux pinning](https://journals.aps.org/prl/abstract/10.1103/PhysRevLett.67.919), and many other areas.\n",
    "\n",
    "A simple signature of self-organized-criticality observed in the sandpile model, which also represents an easy readout for experimental data, is the appearance of $1/f$ noise in the system's power spectrum, where $f$ denotes frequency. This distribution implies that avalanche durations have a skewed distribution, where larger events happen less frequently. For an experimental system, this results in \"crackling\" or brown noise in the detector. In the BTW model, the authors note that a $1/f$ distribution of rare events in the frequency corresponds to a $1/T$ distribution of waiting times between rare events. \n",
    "\n",
    "Here we will implement the BTW model, and then test for the appearance of $1/f$ noise."
   ]
  },
  {
   "cell_type": "markdown",
   "id": "0f497640",
   "metadata": {},
   "source": [
    "## To Do:\n",
    "\n",
    "*Please complete the following tasks and answer the included questions. You can edit a Markdown cell in Jupyter by double-clicking on it. To return the cell to its formatted form, press `[Shift]+[Enter]`.*"
   ]
  },
  {
   "cell_type": "markdown",
   "id": "8e9cb0e8",
   "metadata": {},
   "source": [
    "1. Implement the Abelian Sandpile model and simulate its dynamics. I've included a template of the iterative solution below, although feel free to re-factor if you would prefer to implement the problem a different way. There are at least three different ways to implement the Abelian sandpile:\n",
    "    + The iterative solution involves adding a grain and then repeatedly checking the lattice for piles to topple\n",
    "    + The recursive depth-first-search solution adds a grain and then traces the avalanche that results from each grain toppled by the initial addition.\n",
    "    + The breadth-first-search solution adds a grain and then simultaneously tracks the four potential avalanches that result from a single grain falling.\n"
   ]
  },
  {
   "cell_type": "markdown",
   "id": "3465df70",
   "metadata": {},
   "source": [
    "```\n",
    "    Your Answer: Fill in the code below.\n",
    "```"
   ]
  },
  {
   "cell_type": "markdown",
   "id": "6bc995c1",
   "metadata": {},
   "source": [
    "\n",
    "2. Using the code included below, show that avalanche durations exhibit a $1/T^\\alpha$ distribution, where $\\alpha$ is some constant."
   ]
  },
  {
   "cell_type": "markdown",
   "id": "b131008f",
   "metadata": {},
   "source": [
    "```\n",
    "    Your Answer: Fill in the code below.\n",
    "```"
   ]
  },
  {
   "cell_type": "markdown",
   "id": "0a9efd17",
   "metadata": {},
   "source": [
    "3. If a single image of the sandpile has size $N$ (the total number of lattice sites), what do you expect to be the worst-case scaling of the runtime of your algorithm? What about the expected scaling of memory usage?"
   ]
  },
  {
   "cell_type": "markdown",
   "id": "d43059d1",
   "metadata": {},
   "source": [
    "```\n",
    "    Your Answer: I believe the worst case runtime scaling is O(N^2) because the worst case scenario is that every grain drop avalances over every other cell. The expected memory usage should be O(N) because the self.grid variable is reused throughout each step.\n",
    "```"
   ]
  },
  {
   "cell_type": "markdown",
   "id": "48891642",
   "metadata": {},
   "source": [
    "4. You may have noticed that the waiting time and avalanche size distribution exhibit anomalous scaling in their tails, as visible as a small second peak near the extreme end of the distribution. What causes this effect?"
   ]
  },
  {
   "cell_type": "markdown",
   "id": "b6753469",
   "metadata": {},
   "source": [
    "```\n",
    "    Your Answer: This effect may be due to the avalanches reaching the borders of the lattice, and therefore greatly increasing the complexity of the simulation\n",
    "```"
   ]
  },
  {
   "cell_type": "markdown",
   "id": "f523c0b6",
   "metadata": {},
   "source": [
    "5. (Optional, Hard Problem). Try [vectorizing](https://realpython.com/numpy-array-programming/) your sandpile implementation, in order to reduce the number of \"for\" loops used in your implementation. How does vectorization affect the runtime?"
   ]
  },
  {
   "cell_type": "markdown",
   "id": "847cc5ce",
   "metadata": {},
   "source": [
    "```\n",
    "    Your Answer: Fill in the code below.\n",
    "```"
   ]
  },
  {
   "cell_type": "code",
   "execution_count": 50,
   "id": "4ba7c649-b71a-4741-b339-406690db8c41",
   "metadata": {},
   "outputs": [],
   "source": [
    "class AbelianSandpile:\n",
    "    \"\"\"\n",
    "    An Abelian sandpile model simulation. The sandpile is initialized with a random\n",
    "    number of grains at each lattice site. Then, a single grain is dropped at a random\n",
    "    location. The sandpile is then allowed to evolve until it is stable. This process\n",
    "    is repeated n_step times.\n",
    "\n",
    "    A single step of the simulation consists of two stages: a random sand grain is \n",
    "    dropped onto the lattice at a random location. Then, a set of avalanches occurs\n",
    "    causing sandgrains to get redistributed to their neighboring locations.\n",
    "    \n",
    "    Parameters:\n",
    "    n (int): The size of the grid\n",
    "    grid (np.ndarray): The grid of the sandpile\n",
    "    history (list): A list of the sandpile grids at each timestep\n",
    "    \"\"\"\n",
    "\n",
    "    def __init__(self, n=100, random_state=None):\n",
    "        self.n = n\n",
    "        np.random.seed(random_state) # Set the random seed\n",
    "        self.grid = np.random.choice([0, 1, 2, 3], size=(n, n))\n",
    "        self.history =[self.grid.copy()] # Why did we need to copy the grid?\n",
    "\n",
    "\n",
    "    def step(self):\n",
    "        \"\"\"\n",
    "        Perform a single step of the sandpile model. Step corresponds a single sandgrain \n",
    "        addition and the consequent toppling it causes. \n",
    "\n",
    "        Returns: None\n",
    "        \"\"\"\n",
    "        n = self.n\n",
    "        x0 = np.random.randint(0,n)\n",
    "        y0 = np.random.randint(0,n)\n",
    "\n",
    "        # Drop one grain\n",
    "        self.grid[x0,y0] += 1\n",
    "\n",
    "        topple = [(x0, y0)] # List of cells that need to be processes\n",
    "\n",
    "        while topple: # Repeat until topple variable is empty\n",
    "            x, y = topple.pop() # Removes and returns the last coordinate in topple\n",
    "\n",
    "            if self.grid[x,y] < 4:\n",
    "                continue\n",
    "\n",
    "            self.grid[x,y] -= 4\n",
    "\n",
    "            neighbors = [(x+1,y),(x-1,y),(x,y+1),(x,y-1)]\n",
    "            for neighbor in neighbors:\n",
    "                if 0 <= neighbor[0] < n and 0 <= neighbor[1] < n: # If the coordinate is within the grid\n",
    "                    self.grid[neighbor] += 1\n",
    "                    topple.append(neighbor)\n",
    "\n",
    "                else: # If the grain falls out of the frame, add another grain randomly\n",
    "                    xr = np.random.randint(0,n)\n",
    "                    yr = np.random.randint(0,n)\n",
    "\n",
    "                    self.grid[xr,yr] += 1\n",
    "                    topple.append((xr,yr))\n",
    "\n",
    "\n",
    "\n",
    "\n",
    "\n",
    "            \n",
    "\n",
    "    # we use this decorator for class methods that don't require any of the attributes \n",
    "    # stored in self. Notice how we don't pass self to the method\n",
    "    @staticmethod\n",
    "    def check_difference(grid1, grid2):\n",
    "        \"\"\"Check the total number of different sites between two grids\"\"\"\n",
    "        return np.sum(grid1 != grid2)\n",
    "\n",
    "    \n",
    "    def simulate(self, step):\n",
    "        \"\"\"\n",
    "        Simulate the sandpile model for n_step steps.\n",
    "        \"\"\"\n",
    "        for i in range(step):\n",
    "            self.step()\n",
    "            self.history.append(self.grid.copy())\n"
   ]
  },
  {
   "cell_type": "markdown",
   "id": "ac8071e4",
   "metadata": {},
   "source": [
    "### Test and use your code\n",
    "\n",
    "+ You don't need to write any code below, these cells are just to confirm that everything is working and to play with your sandpile implementation\n",
    "+ If you are working from a local fork of the entire course, then you already have access to the solutions. In this case, make sure to `git pull` to make sure that you are up-to-date (save your work first).\n",
    "+ If you are working from a single downloaded notebook, or are working in Google Colab, then you will need to manually download the solutions file from the course repository. The lines below will do this for you."
   ]
  },
  {
   "cell_type": "code",
   "execution_count": 51,
   "id": "8fc85fa8",
   "metadata": {},
   "outputs": [
    {
     "name": "stdout",
     "output_type": "stream",
     "text": [
      "Directory \"solutions\" already exists. Skipping creation.\n",
      "File already exists at solutions/sandpile.py, not overwritten.\n"
     ]
    }
   ],
   "source": [
    "import os\n",
    "import requests\n",
    "# Check if the \"solutions\" directory exists. If not, create it and download the solution file\n",
    "if not os.path.exists('solutions'):\n",
    "    os.makedirs('solutions')\n",
    "else:\n",
    "    print('Directory \"solutions\" already exists. Skipping creation.')\n",
    "\n",
    "# Now download the solution file into the directory we just created\n",
    "url = 'https://raw.githubusercontent.com/williamgilpin/cphy/main/hw/solutions/sandpile.py'\n",
    "response = requests.get(url)\n",
    "file_path = os.path.join('solutions', 'sandpile.py')\n",
    "if not os.path.exists(file_path):\n",
    "    with open(file_path, 'wb') as file:\n",
    "        file.write(response.content)\n",
    "    print(f'File saved to {file_path}')\n",
    "else:\n",
    "    print(f'File already exists at {file_path}, not overwritten.')\n",
    "\n",
    "## Import Instructor's solution from answer key\n",
    "# from solutions.sandpile import AbelianSandpileIterative as AbelianSandpile\n",
    "# from solutions.sandpile import AbelianSandpileBFS as AbelianSandpile\n",
    "# from solutions.sandpile import AbelianSandpileDFS as AbelianSandpile\n"
   ]
  },
  {
   "cell_type": "code",
   "execution_count": 88,
   "id": "c25237ee",
   "metadata": {},
   "outputs": [
    {
     "data": {
      "text/plain": [
       "Text(0.5, 1.0, 'Final state')"
      ]
     },
     "execution_count": 88,
     "metadata": {},
     "output_type": "execute_result"
    },
    {
     "data": {
      "image/png": "[encoded data removed]",
      "text/plain": [
       "<Figure size 640x480 with 1 Axes>"
      ]
     },
     "metadata": {},
     "output_type": "display_data"
    },
    {
     "data": {
      "image/png": "[encoded data removed]",
      "text/plain": [
       "<Figure size 640x480 with 1 Axes>"
      ]
     },
     "metadata": {},
     "output_type": "display_data"
    }
   ],
   "source": [
    "# Run sandpile simulation\n",
    "model = AbelianSandpile(n=75, random_state=0)\n",
    "\n",
    "plt.figure()\n",
    "plt.imshow(model.grid, cmap='gray')\n",
    "plt.title(\"Initial State\")\n",
    "\n",
    "model.simulate(1500)\n",
    "plt.figure()\n",
    "plt.imshow(model.grid, cmap='gray')\n",
    "plt.title(\"Final state\")\n",
    "\n"
   ]
  },
  {
   "cell_type": "code",
   "execution_count": 89,
   "id": "c7d0d0a4",
   "metadata": {},
   "outputs": [
    {
     "data": {
      "text/plain": [
       "Text(0.5, 1.0, 'Avalanche activity in most recent timesteps')"
      ]
     },
     "execution_count": 89,
     "metadata": {},
     "output_type": "execute_result"
    },
    {
     "data": {
      "image/png": "[encoded data removed]",
      "text/plain": [
       "<Figure size 640x480 with 1 Axes>"
      ]
     },
     "metadata": {},
     "output_type": "display_data"
    },
    {
     "data": {
      "image/png": "[encoded data removed]",
      "text/plain": [
       "<Figure size 640x480 with 1 Axes>"
      ]
     },
     "metadata": {},
     "output_type": "display_data"
    },
    {
     "data": {
      "image/png": "[encoded data removed]",
      "text/plain": [
       "<Figure size 500x500 with 1 Axes>"
      ]
     },
     "metadata": {},
     "output_type": "display_data"
    }
   ],
   "source": [
    "\n",
    "# Compute the pairwise difference between all observed snapshots. This command uses list\n",
    "# comprehension, a zip generator, and argument unpacking in order to perform this task\n",
    "# concisely.\n",
    "all_events =  [model.check_difference(*states) for states in zip(model.history[:-1], model.history[1:])]\n",
    "# remove transients before the self-organized critical state is reached\n",
    "all_events = all_events[100:]\n",
    "# index each timestep by timepoint\n",
    "all_events = list(enumerate(all_events))\n",
    "# remove cases where an avalanche did not occur\n",
    "all_avalanches = [x for x in all_events if x[1] > 1]\n",
    "all_avalanche_times = [item[0] for item in all_avalanches]\n",
    "all_avalanche_sizes = [item[1] for item in all_avalanches]\n",
    "all_avalanche_durations = [event1 - event0 for event0, event1 in zip(all_avalanche_times[:-1], all_avalanche_times[1:])]\n",
    "\n",
    "\n",
    "## Waiting time distribution\n",
    "waiting_times = np.diff(np.array(all_avalanche_times))\n",
    "plt.figure()\n",
    "plt.semilogy()\n",
    "plt.hist(waiting_times)\n",
    "plt.title('Waiting Time distribution')\n",
    "plt.xlabel('Waiting time')\n",
    "plt.ylabel('Number of events')\n",
    "\n",
    "## Duration distribution\n",
    "log_bins = np.logspace(np.log10(2), np.log10(np.max(all_avalanche_durations)), 50) # logarithmic bins for histogram\n",
    "vals, bins = np.histogram(all_avalanche_durations, bins=log_bins)\n",
    "plt.figure()\n",
    "plt.loglog(bins[:-1], vals, '.', markersize=10)\n",
    "plt.title('Avalanche duration distribution')\n",
    "plt.xlabel('Avalanche duration')\n",
    "plt.ylabel('Count')\n",
    "\n",
    "## Visualize activity of the avalanches\n",
    "# Make an array storing all pairwise differences between the lattice at successive\n",
    "# timepoints\n",
    "all_diffs = np.abs(np.diff(np.array(model.history), axis=0))\n",
    "all_diffs[all_diffs > 0] = 1\n",
    "all_diffs = all_diffs[np.sum(all_diffs, axis=(1, 2)) > 1] # Filter to only keep big events\n",
    "most_recent_events = np.sum(all_diffs[-100:], axis=0)\n",
    "plt.figure(figsize=(5, 5))\n",
    "plt.imshow(most_recent_events)\n",
    "plt.title(\"Avalanche activity in most recent timesteps\")"
   ]
  },
  {
   "cell_type": "code",
   "execution_count": 72,
   "id": "cb747975",
   "metadata": {},
   "outputs": [
    {
     "data": {
      "text/plain": [
       "np.int64(20)"
      ]
     },
     "execution_count": 72,
     "metadata": {},
     "output_type": "execute_result"
    }
   ],
   "source": [
    "all_events =  [model.check_difference(*states) for states in zip(model.history[:-1], model.history[1:])]\n",
    "all_events[1000]\n",
    "# remove transients before the self-organized critical state is reached\n",
    "#all_events = all_events[1000:]\n",
    "# index each timestep by timepoint\n",
    "#all_events = list(enumerate(all_events))\n"
   ]
  },
  {
   "cell_type": "markdown",
   "id": "c2556633",
   "metadata": {},
   "source": [
    "\n",
    "### Additional information\n",
    "\n",
    "\n",
    "The BTK model is called the \"Abelian\" sandpile because the final stable configuration is invariant to the order of toppling events. For example, instead of toppling the pile to completion after each addition, we could add $M$ several grains at once, and then perform a series of topples selecting unstable sites in any order until a stable configuration is achieved. The final sandpile would be identical to the one we would get if we simulated the pile through $M$ full additions sequentially. The Abelian property also means that we have a variety of choices of algorithms for implementing the toppling process resulting from the addition of a single grain; the sandpile will return the same solution regardless of whether a breadth-first search, depth-first search, or iterative solution is used. Importantly, each of these solution methods is, in principle, simulating a different physical process and chain of events, but the particular Abelian property of this model means that the final solution is identical.\n",
    "\n",
    "Another member of our department, Michael Marder, has a [paper from 1992 in which he and his student Steve Kramer propose a cellular automaton model of river formation.](https://journals.aps.org/prl/abstract/10.1103/PhysRevLett.68.205). The update rules and structure of implementing this simulation have many simularities to the BTK model.\n",
    "\n",
    "Among cellular automata, the BTW model is not only unique for its asynchronous nature, but also because it has a \"derivative\" ruleset in contrast to the \"integral\"/totalistic ruleset seen in better-known systems like the Game of Life: instead of updating a cell based on the sum of all its neighbors, we update all neighbors based on the state of a cell. A similar distinction arises in other types of dynamical systems; for example, when numerically integrating partial differential equations, finite difference methods update each lattice point based on their differences from neighboring points, approximating spatial derivatives. However, for many classes of partial differential equations, finite element methods instead update each lattice point based on the weighted average of all its neighbors, approximating spatial integrals.\n",
    "\n"
   ]
  },
  {
   "cell_type": "markdown",
   "id": "aa2b3764",
   "metadata": {
    "tags": [
     "no-pdf"
    ]
   },
   "source": [
    "### Extra  code for animations\n",
    "+ No need to run this, but this code allows you to visualize the sandpile as it evolves over time."
   ]
  },
  {
   "cell_type": "code",
   "execution_count": 31,
   "id": "c9c9af2b",
   "metadata": {
    "tags": [
     "no-pdf"
    ]
   },
   "outputs": [
    {
     "ename": "NameError",
     "evalue": "name 'all_diffs' is not defined",
     "output_type": "error",
     "traceback": [
      "\u001b[31m---------------------------------------------------------------------------\u001b[39m",
      "\u001b[31mNameError\u001b[39m                                 Traceback (most recent call last)",
      "\u001b[36mCell\u001b[39m\u001b[36m \u001b[39m\u001b[32mIn[31]\u001b[39m\u001b[32m, line 4\u001b[39m\n\u001b[32m      1\u001b[39m \u001b[38;5;28;01mfrom\u001b[39;00m\u001b[38;5;250m \u001b[39m\u001b[34;01mmatplotlib\u001b[39;00m\u001b[34;01m.\u001b[39;00m\u001b[34;01manimation\u001b[39;00m\u001b[38;5;250m \u001b[39m\u001b[38;5;28;01mimport\u001b[39;00m FuncAnimation\n\u001b[32m      2\u001b[39m \u001b[38;5;28;01mfrom\u001b[39;00m\u001b[38;5;250m \u001b[39m\u001b[34;01mIPython\u001b[39;00m\u001b[34;01m.\u001b[39;00m\u001b[34;01mdisplay\u001b[39;00m\u001b[38;5;250m \u001b[39m\u001b[38;5;28;01mimport\u001b[39;00m HTML\n\u001b[32m----> \u001b[39m\u001b[32m4\u001b[39m activity_sliding2 = \u001b[43mall_diffs\u001b[49m[-\u001b[32m500\u001b[39m:]\n\u001b[32m      5\u001b[39m vmin = np.percentile(activity_sliding2, \u001b[32m1\u001b[39m)\n\u001b[32m      6\u001b[39m \u001b[38;5;66;03m# vmin = 0\u001b[39;00m\n",
      "\u001b[31mNameError\u001b[39m: name 'all_diffs' is not defined"
     ]
    }
   ],
   "source": [
    "from matplotlib.animation import FuncAnimation\n",
    "from IPython.display import HTML\n",
    "\n",
    "activity_sliding2 = all_diffs[-500:]\n",
    "vmin = np.percentile(activity_sliding2, 1)\n",
    "# vmin = 0\n",
    "vmax = np.percentile(activity_sliding2, 99.8)\n",
    "\n",
    "# Assuming frames is a numpy array with shape (num_frames, height, width)\n",
    "frames = np.array(activity_sliding2).copy() \n",
    "\n",
    "fig = plt.figure(figsize=(6, 6))\n",
    "img = plt.imshow(frames[0], vmin=vmin, vmax=vmax);\n",
    "plt.xticks([]); plt.yticks([])\n",
    "# tight margins\n",
    "plt.margins(0,0)\n",
    "plt.gca().xaxis.set_major_locator(plt.NullLocator())\n",
    "\n",
    "def update(frame):\n",
    "    img.set_array(frame)\n",
    "\n",
    "ani = FuncAnimation(fig, update, frames=frames, interval=50)\n",
    "HTML(ani.to_jshtml())"
   ]
  },
  {
   "cell_type": "code",
   "execution_count": null,
   "id": "120f00aa",
   "metadata": {
    "tags": [
     "no-pdf"
    ]
   },
   "outputs": [],
   "source": [
    "all_diffs = np.abs(np.diff(np.array(model.history), axis=0))\n",
    "# all_diffs = all_diffs[np.sum(all_diffs, axis=(1, 2)) > 1] # Filter to only keep big events\n",
    "\n",
    "# Use a trick to calculate the sliding cumulative sum\n",
    "activity_cumulative = np.cumsum(all_diffs, axis=0)\n",
    "# activity_sliding = activity_cumulative[50:] - activity_cumulative[:-50]\n",
    "activity_sliding = all_diffs\n",
    "\n",
    "plt.figure(figsize=(5, 5))\n",
    "plt.imshow(activity_sliding[-1])"
   ]
  },
  {
   "cell_type": "code",
   "execution_count": null,
   "id": "1eb80419",
   "metadata": {
    "tags": [
     "no-pdf"
    ]
   },
   "outputs": [],
   "source": [
    "# This code saves the sliding cumulative sum as a movie. No need to run this cell\n",
    "\n",
    "activity_sliding2 = activity_sliding[-500:]\n",
    "vmin = np.percentile(activity_sliding2, 1)\n",
    "# vmin = 0\n",
    "vmax = np.percentile(activity_sliding2, 99.8)\n",
    "for i in range(len(activity_sliding2) - 1):\n",
    "    \n",
    "    out_path = \"private_dump/sandpile/frame\" + str(i).zfill(4) + \".png\"\n",
    "\n",
    "    plt.figure()\n",
    "    plt.imshow(activity_sliding2[i], vmin=vmin, vmax=vmax)\n",
    "\n",
    "    ax = plt.gca()\n",
    "    ax.set_axis_off()\n",
    "    ax.xaxis.set_major_locator(plt.NullLocator())\n",
    "    ax.yaxis.set_major_locator(plt.NullLocator())\n",
    "    ax.set_aspect(1, adjustable='box')\n",
    "\n",
    "    plt.savefig(out_path, bbox_inches='tight', pad_inches=0.0, dpi=300)\n",
    "    plt.close() \n",
    "\n"
   ]
  },
  {
   "cell_type": "markdown",
   "id": "9d4a9454",
   "metadata": {},
   "source": [
    "# Percolation\n",
    "\n",
    "The BTK cellular automaton represents a great example of a simple, toy computational model that exhibits non-trivial properties found in other, much more elaborate problems. It can be considered a [dynamical universality class](https://journals.aps.org/prl/abstract/10.1103/PhysRevLett.72.1690), meaning that many problems map onto it, independently of their microscopic details.\n",
    "\n",
    "Here, we will consider a well-known example of a universality class describing a nonequilibrium phase transition: the directed percolation problem. This problem is usually attributed to [Broadbent & Hammersley in 1957](https://www.cambridge.org/core/journals/mathematical-proceedings-of-the-cambridge-philosophical-society/article/percolation-processes/C00CC4943F48228F8AC8031092FE84EC).\n",
    "\n",
    "The basic idea is deceptively simple: given a D-dimensional lattice (for our purposes, a 2D grid), we randomly mark sites as \"blocked\" with probability $p$. The remaining sites are \"open\" for water to flow. For a given value of $p$, what is the probability that water poured into the top of the lattice will percolate to the bottom row through a chain of connected open sites? This problem is *directed percolation* because it has a preferred direction (water flows from top to bottom). We will assume two open sites are connected if one is north, south, east, or west of the other---but *not* diagonal. This corresponds to [von Neumann neighborhood rules](https://en.wikipedia.org/wiki/Von_Neumann_neighborhood).\n",
    "\n",
    "A percolation simulation should take a binary array, and return True if it percolates, and False if it does not. There are many ways to implement a percolation algorithm, most of which involve simulating the addition of water to the grid. \n",
    "+ *Iterative Solution.* One option would be start with the top row, mark all open sites as \"filled,\" and then pass to the next row and search for open sites connected to filled sites. Some addtional care is required, however, because water can pass through channels within a row until it reaches sites that are not directly below filled sites. One workaround would be to perform multiple iterative passes until the filled lattice stops changing. Another edge case is the case where water needs to pass through an uphill channel in order to make it to the bottom---this can be solved by passing over the lattice first from top to bottom, and then vice versa.\n",
    "+ *Depth-first search (DFS).* Another simulation option would be a depth-first-search, where we start from each site on the top row and we search for any chain of North/Sout/East/West hops that leads to the other side of the lattice, marking all visited sites as filled with water. This last methods demonstrates the conceptual simularity between directed percolation and solving a maze puzzle; the only difference that the \"blocked\" sites in a maze are non-random. \n",
    "\n",
    "Here we are going to implemented a directed percolation model, and then perform experiments with it in order to determine how the percolation probability depends on the fraction of blocked sites $p$.\n",
    "\n",
    "## To Do\n",
    "\n",
    "\n",
    "\n",
    "\n",
    "\n"
   ]
  },
  {
   "cell_type": "markdown",
   "id": "1cb0e0ea",
   "metadata": {},
   "source": [
    "### To Do\n",
    "\n",
    "*Please complete the following tasks and answer the included questions. You can edit a Markdown cell in Jupyter by double-clicking on it. To return the cell to its formatted form, press `[Shift]+[Enter]`.*"
   ]
  },
  {
   "cell_type": "markdown",
   "id": "626030bd",
   "metadata": {},
   "source": [
    "1. Implement a two dimensional directed percolation model in Python. Below, there is a code outline for the iterative solution. There are at least two ways to solve this problem.\n",
    "    + The iterative solution simulates water pouring into the top row, and then iterate over rows and sites. With this solution, there is some difficulty regarding how to handle the case where water can flow through a channel from right to left, even though we normally iterate from left to right. This can be solved by passing over each row twice. However, there is also a the case where water needs to pass uphill through a channel before it can proceed downhill. This can be solved by passing over the lattice from top to bottom, and then vice versa.\n",
    "    + The recursive solution traces all possible paths from the top row to the bottom row, similar to solving a labyrinth. To use this solution, you will need to add an additional private method `_flow_recursive(i, j)` that contains the recursive logic."
   ]
  },
  {
   "cell_type": "markdown",
   "id": "f9f55e4b",
   "metadata": {},
   "source": [
    "```\n",
    "    Your Answer: Fill in the code below.\n",
    "```"
   ]
  },
  {
   "cell_type": "markdown",
   "id": "48dce4ee",
   "metadata": {},
   "source": [
    "2. Perform replicate simulations using the code provided below, and create a plot showing how the probability of percolation changes as a function of $p$ (the blockage probability). Beyond seeing the percolation to clogging transition, you'll notice that the variance in the outcome of your simulations behaves unexpectedly. What is going on here? (Hint: If you've studied the Ising model, you've seen something like this before)"
   ]
  },
  {
   "cell_type": "markdown",
   "id": "139ffe4f",
   "metadata": {},
   "source": [
    "```\n",
    "    Your Answer: \n",
    "```"
   ]
  },
  {
   "cell_type": "markdown",
   "id": "d2477ce9",
   "metadata": {},
   "source": [
    "3. Theoretically, does the transition point seen in our empirical results align with your intuition? Why does its value differ from $p=0.5$? *(Hint: think about sites versus connections between sites).*"
   ]
  },
  {
   "cell_type": "markdown",
   "id": "208d17fd",
   "metadata": {},
   "source": [
    "```\n",
    "    Your Answer: \n",
    "```"
   ]
  },
  {
   "cell_type": "markdown",
   "id": "496314c4",
   "metadata": {},
   "source": [
    "4. How does the memory usage and runtime of your percolation model implement scale with the lattice size? You can answer this empirically or theoretically."
   ]
  },
  {
   "cell_type": "markdown",
   "id": "08de5583",
   "metadata": {},
   "source": [
    "```\n",
    "    Your Answer: \n",
    "```"
   ]
  },
  {
   "cell_type": "markdown",
   "id": "8e259803",
   "metadata": {},
   "source": [
    "5. One way to sweep the control parameter $p$ would be to start in a limit where most of the sites are blocked, and then gradually open up individual sites one at a time until the lattice percolates. A video of a simulation where the lattice is gradually opened can be seen [here](https://vimeo.com/747772333). How do the different events in this gradually unblocked percolation simulation relate to the two timescales we saw in the sandpile problem?"
   ]
  },
  {
   "cell_type": "markdown",
   "id": "7900cce7",
   "metadata": {},
   "source": [
    "```\n",
    "    Your Answer: \n",
    "```"
   ]
  },
  {
   "cell_type": "code",
   "execution_count": null,
   "id": "ec4ba2e7",
   "metadata": {},
   "outputs": [],
   "source": [
    "class PercolationSimulation:\n",
    "    \"\"\"\n",
    "    A simulation of a 2D directed percolation problem. Given a 2D lattice, blocked sites\n",
    "    are denoted by 0s, and open sites are denoted by 1s. During a simulation, water is\n",
    "    poured into the top of the grid, and allowed to percolate to the bottom. If water\n",
    "    fills a lattice site, it is marked with a 2 in the grid. Water only reaches a site\n",
    "    if it reaches an open site directly above, or to the immediate left or right \n",
    "    of an open site.\n",
    "\n",
    "    I've included the API for my solution below. You can use this as a starting point, \n",
    "    or you can re-factor the code to your own style. Your final solution must have a \n",
    "    method called percolate that creates a random lattice and runs a percolation \n",
    "    simulation and\n",
    "    1. returns True if the system percolates\n",
    "    2. stores the original lattice in self.grid\n",
    "    3. stores the water filled lattice in self.grid_filled\n",
    "\n",
    "    + For simplicity, use the first dimension of the array as the percolation direction\n",
    "    + For boundary conditions, assume that any site out of bounds is a 0 (blocked)\n",
    "    + You should use numpy for this problem, although it is possible to use lists \n",
    "\n",
    "\n",
    "\n",
    "    Attributes:\n",
    "        grid (np.array): the original lattice of blocked (0) and open (1) sites\n",
    "        grid_filled (np.array): the lattice after water has been poured in\n",
    "        n (int): number of rows and columns in the lattice\n",
    "        p (float): probability of a site being blocked in the randomly-sampled lattice\n",
    "            random_state (int): random seed for the random number generator\n",
    "        random_state (int): random seed for numpy's random number generator. Used to \n",
    "            ensure reproducibility across random simulations. The default value of None\n",
    "            will use the current state of the random number generator without resetting\n",
    "            it.\n",
    "    \"\"\"\n",
    "\n",
    "    def __init__(self, n=100, p=0.5, grid=None, random_state=None):\n",
    "        \"\"\"\n",
    "        Initialize a PercolationSimulation object.\n",
    "\n",
    "        Args:\n",
    "            n (int): number of rows and columns in the lattice\n",
    "            p (float): probability of a site being blocked in the randomly-sampled lattice\n",
    "            random_state (int): random seed for numpy's random number generator. Used to\n",
    "                ensure reproducibility across random simulations. The default value of None\n",
    "                will use the current state of the random number generator without resetting\n",
    "                it.\n",
    "        \"\"\"\n",
    "\n",
    "        self.random_state = random_state # the random seed\n",
    "\n",
    "        # Initialize a random grid if one is not provided. Otherwise, use the provided\n",
    "        # grid.\n",
    "        if grid is None:\n",
    "            self.n = n\n",
    "            self.p = p\n",
    "            self.grid = np.zeros((n, n))\n",
    "            self._initialize_grid()\n",
    "        else:\n",
    "            assert len(np.unique(np.ravel(grid))) <= 2, \"Grid must only contain 0s and 1s\"\n",
    "            self.grid = grid.astype(int)\n",
    "            # override numbers if grid is provided\n",
    "            self.n = grid.shape[0]\n",
    "            self.p = 1 - np.mean(grid)\n",
    "\n",
    "        # The filled grid used in the percolation calculation. Initialize to the original\n",
    "        # grid. We technically don't need to copy the original grid if we want to save\n",
    "        # memory, but it makes the code easier to debug if this is a separate variable \n",
    "        # from self.grid.\n",
    "        self.grid_filled = np.copy(self.grid)\n",
    "\n",
    "    def _initialize_grid(self):\n",
    "        \"\"\"\n",
    "        Sample a random lattice for the percolation simulation. This method should\n",
    "        write new values to the self.grid and self.grid_filled attributes. Make sure\n",
    "        to set the random seed inside this method.\n",
    "\n",
    "        This is a helper function for the percolation algorithm, and so we denote it \n",
    "        with an underscore in order to indicate that it is not a public method (it is \n",
    "        used internally by the class, but end users should not call it). In other \n",
    "        languages like Java, private methods are not accessible outside the class, but\n",
    "        in Python, they are accessible but external usage is discouraged by convention.\n",
    "\n",
    "        Private methods are useful for functions that are necessary to support the \n",
    "        public methods (here, our percolate() method), but which we expect we might need\n",
    "        to alter in the future. If we released our code as a library, others might \n",
    "        build software that accesses percolate(), and so we should not alter the \n",
    "        input/outputs because it's a public method\n",
    "        \"\"\"\n",
    "        ###############################################################################\n",
    "        #\n",
    "        #\n",
    "        ####### YOUR CODE HERE  ####### \n",
    "        raise NotImplementedError(\"Implement this method\")\n",
    "        # Hint: my solution is 3 lines of code in numpy\n",
    "        #\n",
    "        #\n",
    "        ###############################################################################\n",
    "        \n",
    "\n",
    "    def _flow_recursive(self, i, j):\n",
    "        \"\"\"\n",
    "        Only used if we opt for a recursive solution.\n",
    "\n",
    "        The recursive portion of the flow simulation. Notice how grid and grid_filled\n",
    "        are used to keep track of the global state, even as our recursive calls nest\n",
    "        deeper and deeper\n",
    "        \"\"\"\n",
    "        \n",
    "        ####### YOUR CODE HERE  #######################################################\n",
    "        raise NotImplementedError(\"Implement this method\")\n",
    "        #\n",
    "        #\n",
    "        # Remember to check the von Neumann neighborhood of the current site. There should\n",
    "        # be 4 recursive calls in total, and 4 base cases\n",
    "        #\n",
    "        #\n",
    "        ###############################################################################s\n",
    "\n",
    "\n",
    "    def _poll_neighbors(self, i, j):\n",
    "        \"\"\"\n",
    "        Check whether there is a filled site adjacent to a site at coordinates i, j in \n",
    "        self.grid_filled. Respects boundary conditions.\n",
    "        \"\"\"\n",
    "\n",
    "        ####### YOUR CODE HERE  #######################################################\n",
    "        raise NotImplementedError(\"Implement this method\")\n",
    "        #\n",
    "        #\n",
    "        # Hint: my solution is 4 lines of code in numpy, but you may get different \n",
    "        # results depending on how you enforce the boundary conditions in your solution.\n",
    "        # Not needed for the recursive solution\n",
    "        #\n",
    "        #\n",
    "        ###############################################################################\n",
    "\n",
    "\n",
    "\n",
    "    def _flow(self):\n",
    "        \"\"\"\n",
    "        Run a percolation simulation using recursion\n",
    "\n",
    "        This method writes to the grid and grid_filled attributes, but it does not\n",
    "        return anything. In other languages like Java or C, this method would return\n",
    "        void\n",
    "        \"\"\"\n",
    "        ###############################################################################\n",
    "        raise NotImplementedError(\"Implement this method\")\n",
    "        ####### YOUR CODE HERE  ####### \n",
    "        # Hintsmy non-recursive solution contains one row-wise for loop, which contains \n",
    "        # several loops over individual lattice sites. You might need to visit each lattice \n",
    "        # site more than once per row. In my implementation, split the logic of checking\n",
    "        # the von neumann neighborhood into a separate method _poll_neighbors, which\n",
    "        # returns a boolean indicating whether a neighbor is filled\n",
    "        #\n",
    "        # My recursive solution calls a second function, _flow_recursive, which takes \n",
    "        # two lattice indices as arguments\n",
    "\n",
    "        ###############################################################################\n",
    "\n",
    "\n",
    "\n",
    "    def percolate(self):\n",
    "        \"\"\"\n",
    "        Initialize a random lattice and then run a percolation simulation. Report results\n",
    "        \"\"\"\n",
    "        ###############################################################################\n",
    "\n",
    "        ####### YOUR CODE HERE  ####### \n",
    "        raise NotImplementedError(\"You must implement this method\")\n",
    "        # Hint: my solution is 3 lines of code, and it just calls other methods in the\n",
    "        # class, which do the heavy lifting\n",
    "\n",
    "        ###############################################################################\n",
    "\n",
    "\n"
   ]
  },
  {
   "cell_type": "markdown",
   "id": "3c115456",
   "metadata": {},
   "source": [
    "### Test and use your code\n",
    "\n",
    "+ You don't need to write any new code below, these cells are just to confirm that everything is working and to play with the your percolation implementation\n",
    "+ If you are working from a local fork of the entire course, then you already have access to the solutions. In this case, make sure to `git pull` to make sure that you are up-to-date (save your work first).\n",
    "+ If you are working from a single downloaded notebook, or are working in Google Colab, then you will need to manually download the solutions file from the course repository. The lines below will do this for you."
   ]
  },
  {
   "cell_type": "code",
   "execution_count": null,
   "id": "5adc9995",
   "metadata": {},
   "outputs": [],
   "source": [
    "import os\n",
    "import requests\n",
    "# Check if the \"solutions\" directory exists. If not, create it and download the solution file\n",
    "if not os.path.exists('solutions'):\n",
    "    os.makedirs('solutions')\n",
    "else:\n",
    "    print('Directory \"solutions\" already exists. Skipping creation.')\n",
    "\n",
    "# Now download the solution file into the directory we just created\n",
    "url = 'https://raw.githubusercontent.com/williamgilpin/cphy/main/hw/solutions/percolation.py'\n",
    "response = requests.get(url)\n",
    "file_path = os.path.join('solutions', 'percolation.py')\n",
    "if not os.path.exists(file_path):\n",
    "    with open(file_path, 'wb') as file:\n",
    "        file.write(response.content)\n",
    "    print(f'File saved to {file_path}')\n",
    "else:\n",
    "    print(f'File already exists at {file_path}, not overwritten.')\n",
    "\n",
    "# Import Instructor's solution\n",
    "# from solutions.percolation import PercolationSimulation\n",
    "# from solutions.percolation_iterative import PercolationSimulation"
   ]
  },
  {
   "cell_type": "code",
   "execution_count": null,
   "id": "53214e01",
   "metadata": {},
   "outputs": [
    {
     "name": "stdout",
     "output_type": "stream",
     "text": [
      "True\n",
      "True\n",
      "False\n"
     ]
    },
    {
     "data": {
      "image/png": "[encoded data removed]",
      "text/plain": [
       "<Figure size 640x480 with 1 Axes>"
      ]
     },
     "metadata": {},
     "output_type": "display_data"
    },
    {
     "data": {
      "image/png": "[encoded data removed]",
      "text/plain": [
       "<Figure size 640x480 with 1 Axes>"
      ]
     },
     "metadata": {},
     "output_type": "display_data"
    },
    {
     "data": {
      "image/png": "[encoded data removed]",
      "text/plain": [
       "<Figure size 640x480 with 1 Axes>"
      ]
     },
     "metadata": {},
     "output_type": "display_data"
    }
   ],
   "source": [
    "from matplotlib.colors import LinearSegmentedColormap\n",
    "def plot_percolation(mat):\n",
    "    \"\"\"\n",
    "    Plots a percolation matrix, where 0 indicates a blocked site, 1 indicates an empty \n",
    "    site, and 2 indicates a filled site\n",
    "    \"\"\"\n",
    "    cvals  = [0, 1, 2]\n",
    "    colors = [(0, 0, 0), (0.4, 0.4, 0.4), (0.372549, 0.596078, 1)]\n",
    "\n",
    "    norm = plt.Normalize(min(cvals), max(cvals))\n",
    "    tuples = list(zip(map(norm,cvals), colors))\n",
    "    cmap = LinearSegmentedColormap.from_list(\"\", tuples)\n",
    "    plt.imshow(mat, cmap=cmap, vmin=0, vmax=2)\n",
    "\n",
    "\n",
    "model = PercolationSimulation(n=20, random_state=0, p=0.1)\n",
    "print(model.percolate())\n",
    "plt.figure()\n",
    "plot_percolation(model.grid_filled)\n",
    "\n",
    "model = PercolationSimulation(n=20, random_state=0, p=0.4)\n",
    "print(model.percolate())\n",
    "plt.figure()\n",
    "plot_percolation(model.grid_filled)\n",
    "\n",
    "\n",
    "model = PercolationSimulation(n=20, random_state=0, p=0.9)\n",
    "print(model.percolate())\n",
    "plt.figure()\n",
    "plot_percolation(model.grid_filled)"
   ]
  },
  {
   "cell_type": "markdown",
   "id": "2dec1a17",
   "metadata": {},
   "source": [
    "Run replicate simulations across replicates with different bond occupation probabilities\n",
    "\n",
    "The percolation probability represents an effective order parameter for this system, and\n",
    "so we will attempt to calculate the percolation probability by performing many replicate\n",
    "simulations at different values of the control parameter $p$."
   ]
  },
  {
   "cell_type": "code",
   "execution_count": null,
   "id": "0d356e3b",
   "metadata": {},
   "outputs": [
    {
     "name": "stdout",
     "output_type": "stream",
     "text": [
      "Running replicate simulations for p = 0.0\n",
      "Running replicate simulations for p = 0.041666666666666664\n",
      "Running replicate simulations for p = 0.08333333333333333\n",
      "Running replicate simulations for p = 0.125\n",
      "Running replicate simulations for p = 0.16666666666666666\n",
      "Running replicate simulations for p = 0.20833333333333331\n",
      "Running replicate simulations for p = 0.25\n",
      "Running replicate simulations for p = 0.29166666666666663\n",
      "Running replicate simulations for p = 0.3333333333333333\n",
      "Running replicate simulations for p = 0.375\n",
      "Running replicate simulations for p = 0.41666666666666663\n",
      "Running replicate simulations for p = 0.4583333333333333\n",
      "Running replicate simulations for p = 0.5\n",
      "Running replicate simulations for p = 0.5416666666666666\n",
      "Running replicate simulations for p = 0.5833333333333333\n",
      "Running replicate simulations for p = 0.625\n",
      "Running replicate simulations for p = 0.6666666666666666\n",
      "Running replicate simulations for p = 0.7083333333333333\n",
      "Running replicate simulations for p = 0.75\n",
      "Running replicate simulations for p = 0.7916666666666666\n",
      "Running replicate simulations for p = 0.8333333333333333\n",
      "Running replicate simulations for p = 0.875\n",
      "Running replicate simulations for p = 0.9166666666666666\n",
      "Running replicate simulations for p = 0.9583333333333333\n",
      "Running replicate simulations for p = 1.0\n"
     ]
    },
    {
     "data": {
      "image/png": "[encoded data removed]",
      "text/plain": [
       "<Figure size 640x480 with 1 Axes>"
      ]
     },
     "metadata": {},
     "output_type": "display_data"
    },
    {
     "data": {
      "image/png": "[encoded data removed]",
      "text/plain": [
       "<Figure size 640x480 with 1 Axes>"
      ]
     },
     "metadata": {},
     "output_type": "display_data"
    },
    {
     "name": "stdout",
     "output_type": "stream",
     "text": [
      "Finished simulation 0\n",
      "Finished simulation 500\n",
      "Finished simulation 1000\n",
      "Finished simulation 1500\n",
      "Finished simulation 2000\n",
      "Finished simulation 2500\n",
      "Finished simulation 3000\n",
      "Finished simulation 3500\n",
      "Finished simulation 4000\n",
      "Finished simulation 4500\n"
     ]
    },
    {
     "data": {
      "image/png": "[encoded data removed]",
      "text/plain": [
       "<Figure size 640x480 with 1 Axes>"
      ]
     },
     "metadata": {},
     "output_type": "display_data"
    }
   ],
   "source": [
    "pvals = np.linspace(0, 1, 25) # control parameter for percolation phase transition\n",
    "n_reps = 200 # number of times to repeat the simulation for each p value\n",
    "\n",
    "all_percolations = list()\n",
    "for p in pvals:\n",
    "    print(\"Running replicate simulations for p = {}\".format(p), flush=True)\n",
    "    all_replicates = list()\n",
    "    for i in range(n_reps):\n",
    "        # Initialize the model\n",
    "        model = PercolationSimulation(30, p=p)\n",
    "        all_replicates.append(model.percolate())\n",
    "    all_percolations.append(all_replicates)\n",
    "\n",
    "plt.figure()\n",
    "plt.plot(pvals, np.mean(np.array(all_percolations), axis=1))\n",
    "plt.xlabel('Average site occupation probability')\n",
    "plt.ylabel('Percolation probability')\n",
    "\n",
    "plt.figure()\n",
    "plt.plot(pvals, np.std(np.array(all_percolations), axis=1))\n",
    "plt.xlabel('Standard deviation in site occupation probability')\n",
    "plt.ylabel('Percolation probability')\n",
    "\n",
    "plt.show()\n",
    "\n",
    "\n",
    "## Just from curiousity, plot the distribution of cluster sizes at the percolation threshold\n",
    "## why does it appear to be bimodal?\n",
    "all_cluster_sizes = list()\n",
    "p_c = 0.407259\n",
    "n_reps = 5000\n",
    "for i in range(n_reps):\n",
    "    model = PercolationSimulation(100, p=p_c)\n",
    "    model.percolate()\n",
    "    cluster_size = np.sum(model.grid_filled == 2)\n",
    "    all_cluster_sizes.append(cluster_size)\n",
    "\n",
    "    if i % 500 == 0:\n",
    "        print(\"Finished simulation {}\".format(i), flush=True)\n",
    "\n",
    "all_cluster_sizes = np.array(all_cluster_sizes)\n",
    "\n",
    "plt.figure()\n",
    "plt.hist(all_cluster_sizes, 50);\n"
   ]
  },
  {
   "cell_type": "markdown",
   "id": "3f0c0c1a",
   "metadata": {},
   "source": [
    "# Additional information\n",
    "\n",
    "Directed percolation maps onto all sorts of interesting problems in physics and graph theory. There are very direct applications of percolation to [flow in porous media](https://iopscience.iop.org/article/10.1088/0305-4470/14/5/012/meta), as well as [electrical conductance](https://journals.aps.org/prb/abstract/10.1103/PhysRevB.26.5293) and [light propagation in disordered materials](https://journals.aps.org/prl/abstract/10.1103/PhysRevLett.99.234503). A great example of the broader relevance of the directed percolation universality class is [recent work](https://www.nature.com/articles/nphys3548) showing similar scaling exponents describing both ecological collapse and pipe turbulence, which arise due to both systems belonging to the Directed Percolation universality class. [Another recent paper](https://journals.plos.org/ploscompbiol/article?id=10.1371/journal.pcbi.1007508) uses percolation theory to understand electrical signalling between neighboring cells in a biofilm. \n",
    "\n",
    "For more information about the mathematical theory of percolation, [Kim Christensen's notes on the subject](https://web.mit.edu/ceder/publications/Percolation.pdf) provide a detailed introduction.\n"
   ]
  },
  {
   "cell_type": "markdown",
   "id": "b8f3cda3",
   "metadata": {
    "tags": [
     "no-pdf",
     "remove-cell"
    ]
   },
   "source": [
    "## Optional code and extras\n",
    "\n",
    "Create a simulation where we iteratively fill out one lattice, in order to make a video of our percolation simulation"
   ]
  },
  {
   "cell_type": "code",
   "execution_count": null,
   "id": "4c249d38",
   "metadata": {
    "tags": [
     "no-pdf",
     "remove-cell"
    ]
   },
   "outputs": [],
   "source": [
    "initial_lattice = np.zeros((50, 50))\n",
    "\n",
    "# Decide the order in which sites become blocked\n",
    "np.random.seed(0)\n",
    "all_lattice_indices = np.array(\n",
    "    [(i, j) for i in range(initial_lattice.shape[0]) for j in range(initial_lattice.shape[1])]\n",
    ")\n",
    "np.random.shuffle(all_lattice_indices)\n",
    "\n",
    "# does percolate \n",
    "all_grids = list()\n",
    "for inds in all_lattice_indices:\n",
    "    \n",
    "    initial_lattice[inds[0], inds[1]] = 1\n",
    "    model = PercolationSimulation(grid=initial_lattice)\n",
    "    model.percolate()\n",
    "\n",
    "    if (model.p > 0.3) and (model.p < 0.7):\n",
    "        all_grids.append(np.copy(model.grid_filled))\n",
    "\n",
    "    "
   ]
  },
  {
   "cell_type": "code",
   "execution_count": null,
   "id": "5be99bc0",
   "metadata": {
    "tags": [
     "no-pdf",
     "remove-cell"
    ]
   },
   "outputs": [
    {
     "data": {
      "application/vnd.jupyter.widget-view+json": {
       "model_id": "e952ca34b1b144869f4d74de86b4b91e",
       "version_major": 2,
       "version_minor": 0
      },
      "text/plain": [
       "interactive(children=(IntSlider(value=0, description='i', layout=Layout(width='500px'), max=999), Output()), _…"
      ]
     },
     "metadata": {},
     "output_type": "display_data"
    },
    {
     "data": {
      "text/plain": [
       "<function __main__.plotter(i)>"
      ]
     },
     "execution_count": 15,
     "metadata": {},
     "output_type": "execute_result"
    }
   ],
   "source": [
    "## Make an interactive video\n",
    "from ipywidgets import interact, interactive, fixed, interact_manual, Layout\n",
    "import ipywidgets as widgets\n",
    "\n",
    "def plotter(i):\n",
    "    fig = plt.figure(figsize=(10, 10))\n",
    "    plot_percolation(all_grids[i])\n",
    "    plt.show()\n",
    "\n",
    "\n",
    "\n",
    "interact(\n",
    "    plotter, \n",
    "    i=widgets.IntSlider(0, 0, len(all_grids) - 1, layout=Layout(width='500px'))\n",
    ")"
   ]
  },
  {
   "cell_type": "markdown",
   "id": "876c8d01",
   "metadata": {
    "tags": [
     "no-pdf",
     "remove-cell"
    ]
   },
   "source": [
    "# Appendix and Extras\n",
    "\n",
    "This is William's leftover code for making videos and figures; no need to run this"
   ]
  },
  {
   "cell_type": "code",
   "execution_count": null,
   "id": "5db79a01",
   "metadata": {
    "tags": [
     "no-pdf",
     "remove-cell"
    ]
   },
   "outputs": [
    {
     "ename": "TypeError",
     "evalue": "Invalid shape (500, 50, 50) for image data",
     "output_type": "error",
     "traceback": [
      "\u001b[0;31m---------------------------------------------------------------------------\u001b[0m",
      "\u001b[0;31mTypeError\u001b[0m                                 Traceback (most recent call last)",
      "Cell \u001b[0;32mIn[16], line 23\u001b[0m\n\u001b[1;32m     20\u001b[0m     plot_percolation(all_grids[::\u001b[39m2\u001b[39m])\n\u001b[1;32m     22\u001b[0m ani \u001b[39m=\u001b[39m FuncAnimation(fig, update, frames\u001b[39m=\u001b[39mall_grids[::\u001b[39m2\u001b[39m], interval\u001b[39m=\u001b[39m\u001b[39m50\u001b[39m)\n\u001b[0;32m---> 23\u001b[0m HTML(ani\u001b[39m.\u001b[39;49mto_jshtml())\n",
      "File \u001b[0;32m~/miniconda3/envs/cphy/lib/python3.10/site-packages/matplotlib/animation.py:1331\u001b[0m, in \u001b[0;36mAnimation.to_jshtml\u001b[0;34m(self, fps, embed_frames, default_mode)\u001b[0m\n\u001b[1;32m   1327\u001b[0m         path \u001b[39m=\u001b[39m Path(tmpdir, \u001b[39m\"\u001b[39m\u001b[39mtemp.html\u001b[39m\u001b[39m\"\u001b[39m)\n\u001b[1;32m   1328\u001b[0m         writer \u001b[39m=\u001b[39m HTMLWriter(fps\u001b[39m=\u001b[39mfps,\n\u001b[1;32m   1329\u001b[0m                             embed_frames\u001b[39m=\u001b[39membed_frames,\n\u001b[1;32m   1330\u001b[0m                             default_mode\u001b[39m=\u001b[39mdefault_mode)\n\u001b[0;32m-> 1331\u001b[0m         \u001b[39mself\u001b[39;49m\u001b[39m.\u001b[39;49msave(\u001b[39mstr\u001b[39;49m(path), writer\u001b[39m=\u001b[39;49mwriter)\n\u001b[1;32m   1332\u001b[0m         \u001b[39mself\u001b[39m\u001b[39m.\u001b[39m_html_representation \u001b[39m=\u001b[39m path\u001b[39m.\u001b[39mread_text()\n\u001b[1;32m   1334\u001b[0m \u001b[39mreturn\u001b[39;00m \u001b[39mself\u001b[39m\u001b[39m.\u001b[39m_html_representation\n",
      "File \u001b[0;32m~/miniconda3/envs/cphy/lib/python3.10/site-packages/matplotlib/animation.py:1076\u001b[0m, in \u001b[0;36mAnimation.save\u001b[0;34m(self, filename, writer, fps, dpi, codec, bitrate, extra_args, metadata, extra_anim, savefig_kwargs, progress_callback)\u001b[0m\n\u001b[1;32m   1071\u001b[0m \u001b[39mwith\u001b[39;00m mpl\u001b[39m.\u001b[39mrc_context({\u001b[39m'\u001b[39m\u001b[39msavefig.bbox\u001b[39m\u001b[39m'\u001b[39m: \u001b[39mNone\u001b[39;00m}), \\\n\u001b[1;32m   1072\u001b[0m      writer\u001b[39m.\u001b[39msaving(\u001b[39mself\u001b[39m\u001b[39m.\u001b[39m_fig, filename, dpi), \\\n\u001b[1;32m   1073\u001b[0m      cbook\u001b[39m.\u001b[39m_setattr_cm(\u001b[39mself\u001b[39m\u001b[39m.\u001b[39m_fig\u001b[39m.\u001b[39mcanvas,\n\u001b[1;32m   1074\u001b[0m                        _is_saving\u001b[39m=\u001b[39m\u001b[39mTrue\u001b[39;00m, manager\u001b[39m=\u001b[39m\u001b[39mNone\u001b[39;00m):\n\u001b[1;32m   1075\u001b[0m     \u001b[39mfor\u001b[39;00m anim \u001b[39min\u001b[39;00m all_anim:\n\u001b[0;32m-> 1076\u001b[0m         anim\u001b[39m.\u001b[39;49m_init_draw()  \u001b[39m# Clear the initial frame\u001b[39;00m\n\u001b[1;32m   1077\u001b[0m     frame_number \u001b[39m=\u001b[39m \u001b[39m0\u001b[39m\n\u001b[1;32m   1078\u001b[0m     \u001b[39m# TODO: Currently only FuncAnimation has a save_count\u001b[39;00m\n\u001b[1;32m   1079\u001b[0m     \u001b[39m#       attribute. Can we generalize this to all Animations?\u001b[39;00m\n",
      "File \u001b[0;32m~/miniconda3/envs/cphy/lib/python3.10/site-packages/matplotlib/animation.py:1696\u001b[0m, in \u001b[0;36mFuncAnimation._init_draw\u001b[0;34m(self)\u001b[0m\n\u001b[1;32m   1688\u001b[0m         warnings\u001b[39m.\u001b[39mwarn(\n\u001b[1;32m   1689\u001b[0m             \u001b[39m\"\u001b[39m\u001b[39mCan not start iterating the frames for the initial draw. \u001b[39m\u001b[39m\"\u001b[39m\n\u001b[1;32m   1690\u001b[0m             \u001b[39m\"\u001b[39m\u001b[39mThis can be caused by passing in a 0 length sequence \u001b[39m\u001b[39m\"\u001b[39m\n\u001b[0;32m   (...)\u001b[0m\n\u001b[1;32m   1693\u001b[0m             \u001b[39m\"\u001b[39m\u001b[39mit may be exhausted due to a previous display or save.\u001b[39m\u001b[39m\"\u001b[39m\n\u001b[1;32m   1694\u001b[0m         )\n\u001b[1;32m   1695\u001b[0m         \u001b[39mreturn\u001b[39;00m\n\u001b[0;32m-> 1696\u001b[0m     \u001b[39mself\u001b[39;49m\u001b[39m.\u001b[39;49m_draw_frame(frame_data)\n\u001b[1;32m   1697\u001b[0m \u001b[39melse\u001b[39;00m:\n\u001b[1;32m   1698\u001b[0m     \u001b[39mself\u001b[39m\u001b[39m.\u001b[39m_drawn_artists \u001b[39m=\u001b[39m \u001b[39mself\u001b[39m\u001b[39m.\u001b[39m_init_func()\n",
      "File \u001b[0;32m~/miniconda3/envs/cphy/lib/python3.10/site-packages/matplotlib/animation.py:1718\u001b[0m, in \u001b[0;36mFuncAnimation._draw_frame\u001b[0;34m(self, framedata)\u001b[0m\n\u001b[1;32m   1714\u001b[0m \u001b[39mself\u001b[39m\u001b[39m.\u001b[39m_save_seq \u001b[39m=\u001b[39m \u001b[39mself\u001b[39m\u001b[39m.\u001b[39m_save_seq[\u001b[39m-\u001b[39m\u001b[39mself\u001b[39m\u001b[39m.\u001b[39msave_count:]\n\u001b[1;32m   1716\u001b[0m \u001b[39m# Call the func with framedata and args. If blitting is desired,\u001b[39;00m\n\u001b[1;32m   1717\u001b[0m \u001b[39m# func needs to return a sequence of any artists that were modified.\u001b[39;00m\n\u001b[0;32m-> 1718\u001b[0m \u001b[39mself\u001b[39m\u001b[39m.\u001b[39m_drawn_artists \u001b[39m=\u001b[39m \u001b[39mself\u001b[39;49m\u001b[39m.\u001b[39;49m_func(framedata, \u001b[39m*\u001b[39;49m\u001b[39mself\u001b[39;49m\u001b[39m.\u001b[39;49m_args)\n\u001b[1;32m   1720\u001b[0m \u001b[39mif\u001b[39;00m \u001b[39mself\u001b[39m\u001b[39m.\u001b[39m_blit:\n\u001b[1;32m   1722\u001b[0m     err \u001b[39m=\u001b[39m \u001b[39mRuntimeError\u001b[39;00m(\u001b[39m'\u001b[39m\u001b[39mThe animation function must return a sequence \u001b[39m\u001b[39m'\u001b[39m\n\u001b[1;32m   1723\u001b[0m                        \u001b[39m'\u001b[39m\u001b[39mof Artist objects.\u001b[39m\u001b[39m'\u001b[39m)\n",
      "Cell \u001b[0;32mIn[16], line 20\u001b[0m, in \u001b[0;36mupdate\u001b[0;34m(frame)\u001b[0m\n\u001b[1;32m     19\u001b[0m \u001b[39mdef\u001b[39;00m \u001b[39mupdate\u001b[39m(frame):\n\u001b[0;32m---> 20\u001b[0m     plot_percolation(all_grids[::\u001b[39m2\u001b[39;49m])\n",
      "Cell \u001b[0;32mIn[13], line 16\u001b[0m, in \u001b[0;36mplot_percolation\u001b[0;34m(mat)\u001b[0m\n\u001b[1;32m     14\u001b[0m tuples \u001b[39m=\u001b[39m \u001b[39mlist\u001b[39m(\u001b[39mzip\u001b[39m(\u001b[39mmap\u001b[39m(norm,cvals), colors))\n\u001b[1;32m     15\u001b[0m cmap \u001b[39m=\u001b[39m LinearSegmentedColormap\u001b[39m.\u001b[39mfrom_list(\u001b[39m\"\u001b[39m\u001b[39m\"\u001b[39m, tuples)\n\u001b[0;32m---> 16\u001b[0m plt\u001b[39m.\u001b[39;49mimshow(mat, cmap\u001b[39m=\u001b[39;49mcmap, vmin\u001b[39m=\u001b[39;49m\u001b[39m0\u001b[39;49m, vmax\u001b[39m=\u001b[39;49m\u001b[39m2\u001b[39;49m)\n",
      "File \u001b[0;32m~/miniconda3/envs/cphy/lib/python3.10/site-packages/matplotlib/_api/deprecation.py:459\u001b[0m, in \u001b[0;36mmake_keyword_only.<locals>.wrapper\u001b[0;34m(*args, **kwargs)\u001b[0m\n\u001b[1;32m    453\u001b[0m \u001b[39mif\u001b[39;00m \u001b[39mlen\u001b[39m(args) \u001b[39m>\u001b[39m name_idx:\n\u001b[1;32m    454\u001b[0m     warn_deprecated(\n\u001b[1;32m    455\u001b[0m         since, message\u001b[39m=\u001b[39m\u001b[39m\"\u001b[39m\u001b[39mPassing the \u001b[39m\u001b[39m%(name)s\u001b[39;00m\u001b[39m \u001b[39m\u001b[39m%(obj_type)s\u001b[39;00m\u001b[39m \u001b[39m\u001b[39m\"\u001b[39m\n\u001b[1;32m    456\u001b[0m         \u001b[39m\"\u001b[39m\u001b[39mpositionally is deprecated since Matplotlib \u001b[39m\u001b[39m%(since)s\u001b[39;00m\u001b[39m; the \u001b[39m\u001b[39m\"\u001b[39m\n\u001b[1;32m    457\u001b[0m         \u001b[39m\"\u001b[39m\u001b[39mparameter will become keyword-only \u001b[39m\u001b[39m%(removal)s\u001b[39;00m\u001b[39m.\u001b[39m\u001b[39m\"\u001b[39m,\n\u001b[1;32m    458\u001b[0m         name\u001b[39m=\u001b[39mname, obj_type\u001b[39m=\u001b[39m\u001b[39mf\u001b[39m\u001b[39m\"\u001b[39m\u001b[39mparameter of \u001b[39m\u001b[39m{\u001b[39;00mfunc\u001b[39m.\u001b[39m\u001b[39m__name__\u001b[39m\u001b[39m}\u001b[39;00m\u001b[39m()\u001b[39m\u001b[39m\"\u001b[39m)\n\u001b[0;32m--> 459\u001b[0m \u001b[39mreturn\u001b[39;00m func(\u001b[39m*\u001b[39;49margs, \u001b[39m*\u001b[39;49m\u001b[39m*\u001b[39;49mkwargs)\n",
      "File \u001b[0;32m~/miniconda3/envs/cphy/lib/python3.10/site-packages/matplotlib/pyplot.py:2652\u001b[0m, in \u001b[0;36mimshow\u001b[0;34m(X, cmap, norm, aspect, interpolation, alpha, vmin, vmax, origin, extent, interpolation_stage, filternorm, filterrad, resample, url, data, **kwargs)\u001b[0m\n\u001b[1;32m   2646\u001b[0m \u001b[39m@_copy_docstring_and_deprecators\u001b[39m(Axes\u001b[39m.\u001b[39mimshow)\n\u001b[1;32m   2647\u001b[0m \u001b[39mdef\u001b[39;00m \u001b[39mimshow\u001b[39m(\n\u001b[1;32m   2648\u001b[0m         X, cmap\u001b[39m=\u001b[39m\u001b[39mNone\u001b[39;00m, norm\u001b[39m=\u001b[39m\u001b[39mNone\u001b[39;00m, aspect\u001b[39m=\u001b[39m\u001b[39mNone\u001b[39;00m, interpolation\u001b[39m=\u001b[39m\u001b[39mNone\u001b[39;00m,\n\u001b[1;32m   2649\u001b[0m         alpha\u001b[39m=\u001b[39m\u001b[39mNone\u001b[39;00m, vmin\u001b[39m=\u001b[39m\u001b[39mNone\u001b[39;00m, vmax\u001b[39m=\u001b[39m\u001b[39mNone\u001b[39;00m, origin\u001b[39m=\u001b[39m\u001b[39mNone\u001b[39;00m, extent\u001b[39m=\u001b[39m\u001b[39mNone\u001b[39;00m, \u001b[39m*\u001b[39m,\n\u001b[1;32m   2650\u001b[0m         interpolation_stage\u001b[39m=\u001b[39m\u001b[39mNone\u001b[39;00m, filternorm\u001b[39m=\u001b[39m\u001b[39mTrue\u001b[39;00m, filterrad\u001b[39m=\u001b[39m\u001b[39m4.0\u001b[39m,\n\u001b[1;32m   2651\u001b[0m         resample\u001b[39m=\u001b[39m\u001b[39mNone\u001b[39;00m, url\u001b[39m=\u001b[39m\u001b[39mNone\u001b[39;00m, data\u001b[39m=\u001b[39m\u001b[39mNone\u001b[39;00m, \u001b[39m*\u001b[39m\u001b[39m*\u001b[39mkwargs):\n\u001b[0;32m-> 2652\u001b[0m     __ret \u001b[39m=\u001b[39m gca()\u001b[39m.\u001b[39;49mimshow(\n\u001b[1;32m   2653\u001b[0m         X, cmap\u001b[39m=\u001b[39;49mcmap, norm\u001b[39m=\u001b[39;49mnorm, aspect\u001b[39m=\u001b[39;49maspect,\n\u001b[1;32m   2654\u001b[0m         interpolation\u001b[39m=\u001b[39;49minterpolation, alpha\u001b[39m=\u001b[39;49malpha, vmin\u001b[39m=\u001b[39;49mvmin,\n\u001b[1;32m   2655\u001b[0m         vmax\u001b[39m=\u001b[39;49mvmax, origin\u001b[39m=\u001b[39;49morigin, extent\u001b[39m=\u001b[39;49mextent,\n\u001b[1;32m   2656\u001b[0m         interpolation_stage\u001b[39m=\u001b[39;49minterpolation_stage,\n\u001b[1;32m   2657\u001b[0m         filternorm\u001b[39m=\u001b[39;49mfilternorm, filterrad\u001b[39m=\u001b[39;49mfilterrad, resample\u001b[39m=\u001b[39;49mresample,\n\u001b[1;32m   2658\u001b[0m         url\u001b[39m=\u001b[39;49murl, \u001b[39m*\u001b[39;49m\u001b[39m*\u001b[39;49m({\u001b[39m\"\u001b[39;49m\u001b[39mdata\u001b[39;49m\u001b[39m\"\u001b[39;49m: data} \u001b[39mif\u001b[39;49;00m data \u001b[39mis\u001b[39;49;00m \u001b[39mnot\u001b[39;49;00m \u001b[39mNone\u001b[39;49;00m \u001b[39melse\u001b[39;49;00m {}),\n\u001b[1;32m   2659\u001b[0m         \u001b[39m*\u001b[39;49m\u001b[39m*\u001b[39;49mkwargs)\n\u001b[1;32m   2660\u001b[0m     sci(__ret)\n\u001b[1;32m   2661\u001b[0m     \u001b[39mreturn\u001b[39;00m __ret\n",
      "File \u001b[0;32m~/miniconda3/envs/cphy/lib/python3.10/site-packages/matplotlib/_api/deprecation.py:459\u001b[0m, in \u001b[0;36mmake_keyword_only.<locals>.wrapper\u001b[0;34m(*args, **kwargs)\u001b[0m\n\u001b[1;32m    453\u001b[0m \u001b[39mif\u001b[39;00m \u001b[39mlen\u001b[39m(args) \u001b[39m>\u001b[39m name_idx:\n\u001b[1;32m    454\u001b[0m     warn_deprecated(\n\u001b[1;32m    455\u001b[0m         since, message\u001b[39m=\u001b[39m\u001b[39m\"\u001b[39m\u001b[39mPassing the \u001b[39m\u001b[39m%(name)s\u001b[39;00m\u001b[39m \u001b[39m\u001b[39m%(obj_type)s\u001b[39;00m\u001b[39m \u001b[39m\u001b[39m\"\u001b[39m\n\u001b[1;32m    456\u001b[0m         \u001b[39m\"\u001b[39m\u001b[39mpositionally is deprecated since Matplotlib \u001b[39m\u001b[39m%(since)s\u001b[39;00m\u001b[39m; the \u001b[39m\u001b[39m\"\u001b[39m\n\u001b[1;32m    457\u001b[0m         \u001b[39m\"\u001b[39m\u001b[39mparameter will become keyword-only \u001b[39m\u001b[39m%(removal)s\u001b[39;00m\u001b[39m.\u001b[39m\u001b[39m\"\u001b[39m,\n\u001b[1;32m    458\u001b[0m         name\u001b[39m=\u001b[39mname, obj_type\u001b[39m=\u001b[39m\u001b[39mf\u001b[39m\u001b[39m\"\u001b[39m\u001b[39mparameter of \u001b[39m\u001b[39m{\u001b[39;00mfunc\u001b[39m.\u001b[39m\u001b[39m__name__\u001b[39m\u001b[39m}\u001b[39;00m\u001b[39m()\u001b[39m\u001b[39m\"\u001b[39m)\n\u001b[0;32m--> 459\u001b[0m \u001b[39mreturn\u001b[39;00m func(\u001b[39m*\u001b[39;49margs, \u001b[39m*\u001b[39;49m\u001b[39m*\u001b[39;49mkwargs)\n",
      "File \u001b[0;32m~/miniconda3/envs/cphy/lib/python3.10/site-packages/matplotlib/__init__.py:1412\u001b[0m, in \u001b[0;36m_preprocess_data.<locals>.inner\u001b[0;34m(ax, data, *args, **kwargs)\u001b[0m\n\u001b[1;32m   1409\u001b[0m \u001b[39m@functools\u001b[39m\u001b[39m.\u001b[39mwraps(func)\n\u001b[1;32m   1410\u001b[0m \u001b[39mdef\u001b[39;00m \u001b[39minner\u001b[39m(ax, \u001b[39m*\u001b[39margs, data\u001b[39m=\u001b[39m\u001b[39mNone\u001b[39;00m, \u001b[39m*\u001b[39m\u001b[39m*\u001b[39mkwargs):\n\u001b[1;32m   1411\u001b[0m     \u001b[39mif\u001b[39;00m data \u001b[39mis\u001b[39;00m \u001b[39mNone\u001b[39;00m:\n\u001b[0;32m-> 1412\u001b[0m         \u001b[39mreturn\u001b[39;00m func(ax, \u001b[39m*\u001b[39;49m\u001b[39mmap\u001b[39;49m(sanitize_sequence, args), \u001b[39m*\u001b[39;49m\u001b[39m*\u001b[39;49mkwargs)\n\u001b[1;32m   1414\u001b[0m     bound \u001b[39m=\u001b[39m new_sig\u001b[39m.\u001b[39mbind(ax, \u001b[39m*\u001b[39margs, \u001b[39m*\u001b[39m\u001b[39m*\u001b[39mkwargs)\n\u001b[1;32m   1415\u001b[0m     auto_label \u001b[39m=\u001b[39m (bound\u001b[39m.\u001b[39marguments\u001b[39m.\u001b[39mget(label_namer)\n\u001b[1;32m   1416\u001b[0m                   \u001b[39mor\u001b[39;00m bound\u001b[39m.\u001b[39mkwargs\u001b[39m.\u001b[39mget(label_namer))\n",
      "File \u001b[0;32m~/miniconda3/envs/cphy/lib/python3.10/site-packages/matplotlib/axes/_axes.py:5481\u001b[0m, in \u001b[0;36mAxes.imshow\u001b[0;34m(self, X, cmap, norm, aspect, interpolation, alpha, vmin, vmax, origin, extent, interpolation_stage, filternorm, filterrad, resample, url, **kwargs)\u001b[0m\n\u001b[1;32m   5474\u001b[0m \u001b[39mself\u001b[39m\u001b[39m.\u001b[39mset_aspect(aspect)\n\u001b[1;32m   5475\u001b[0m im \u001b[39m=\u001b[39m mimage\u001b[39m.\u001b[39mAxesImage(\u001b[39mself\u001b[39m, cmap, norm, interpolation,\n\u001b[1;32m   5476\u001b[0m                       origin, extent, filternorm\u001b[39m=\u001b[39mfilternorm,\n\u001b[1;32m   5477\u001b[0m                       filterrad\u001b[39m=\u001b[39mfilterrad, resample\u001b[39m=\u001b[39mresample,\n\u001b[1;32m   5478\u001b[0m                       interpolation_stage\u001b[39m=\u001b[39minterpolation_stage,\n\u001b[1;32m   5479\u001b[0m                       \u001b[39m*\u001b[39m\u001b[39m*\u001b[39mkwargs)\n\u001b[0;32m-> 5481\u001b[0m im\u001b[39m.\u001b[39;49mset_data(X)\n\u001b[1;32m   5482\u001b[0m im\u001b[39m.\u001b[39mset_alpha(alpha)\n\u001b[1;32m   5483\u001b[0m \u001b[39mif\u001b[39;00m im\u001b[39m.\u001b[39mget_clip_path() \u001b[39mis\u001b[39;00m \u001b[39mNone\u001b[39;00m:\n\u001b[1;32m   5484\u001b[0m     \u001b[39m# image does not already have clipping set, clip to axes patch\u001b[39;00m\n",
      "File \u001b[0;32m~/miniconda3/envs/cphy/lib/python3.10/site-packages/matplotlib/image.py:715\u001b[0m, in \u001b[0;36m_ImageBase.set_data\u001b[0;34m(self, A)\u001b[0m\n\u001b[1;32m    711\u001b[0m     \u001b[39mself\u001b[39m\u001b[39m.\u001b[39m_A \u001b[39m=\u001b[39m \u001b[39mself\u001b[39m\u001b[39m.\u001b[39m_A[:, :, \u001b[39m0\u001b[39m]\n\u001b[1;32m    713\u001b[0m \u001b[39mif\u001b[39;00m \u001b[39mnot\u001b[39;00m (\u001b[39mself\u001b[39m\u001b[39m.\u001b[39m_A\u001b[39m.\u001b[39mndim \u001b[39m==\u001b[39m \u001b[39m2\u001b[39m\n\u001b[1;32m    714\u001b[0m         \u001b[39mor\u001b[39;00m \u001b[39mself\u001b[39m\u001b[39m.\u001b[39m_A\u001b[39m.\u001b[39mndim \u001b[39m==\u001b[39m \u001b[39m3\u001b[39m \u001b[39mand\u001b[39;00m \u001b[39mself\u001b[39m\u001b[39m.\u001b[39m_A\u001b[39m.\u001b[39mshape[\u001b[39m-\u001b[39m\u001b[39m1\u001b[39m] \u001b[39min\u001b[39;00m [\u001b[39m3\u001b[39m, \u001b[39m4\u001b[39m]):\n\u001b[0;32m--> 715\u001b[0m     \u001b[39mraise\u001b[39;00m \u001b[39mTypeError\u001b[39;00m(\u001b[39m\"\u001b[39m\u001b[39mInvalid shape \u001b[39m\u001b[39m{}\u001b[39;00m\u001b[39m for image data\u001b[39m\u001b[39m\"\u001b[39m\n\u001b[1;32m    716\u001b[0m                     \u001b[39m.\u001b[39mformat(\u001b[39mself\u001b[39m\u001b[39m.\u001b[39m_A\u001b[39m.\u001b[39mshape))\n\u001b[1;32m    718\u001b[0m \u001b[39mif\u001b[39;00m \u001b[39mself\u001b[39m\u001b[39m.\u001b[39m_A\u001b[39m.\u001b[39mndim \u001b[39m==\u001b[39m \u001b[39m3\u001b[39m:\n\u001b[1;32m    719\u001b[0m     \u001b[39m# If the input data has values outside the valid range (after\u001b[39;00m\n\u001b[1;32m    720\u001b[0m     \u001b[39m# normalisation), we issue a warning and then clip X to the bounds\u001b[39;00m\n\u001b[1;32m    721\u001b[0m     \u001b[39m# - otherwise casting wraps extreme values, hiding outliers and\u001b[39;00m\n\u001b[1;32m    722\u001b[0m     \u001b[39m# making reliable interpretation impossible.\u001b[39;00m\n\u001b[1;32m    723\u001b[0m     high \u001b[39m=\u001b[39m \u001b[39m255\u001b[39m \u001b[39mif\u001b[39;00m np\u001b[39m.\u001b[39missubdtype(\u001b[39mself\u001b[39m\u001b[39m.\u001b[39m_A\u001b[39m.\u001b[39mdtype, np\u001b[39m.\u001b[39minteger) \u001b[39melse\u001b[39;00m \u001b[39m1\u001b[39m\n",
      "\u001b[0;31mTypeError\u001b[0m: Invalid shape (500, 50, 50) for image data"
     ]
    },
    {
     "data": {
      "image/png": "[encoded data removed]",
      "text/plain": [
       "<Figure size 600x600 with 1 Axes>"
      ]
     },
     "metadata": {},
     "output_type": "display_data"
    }
   ],
   "source": [
    "from matplotlib.animation import FuncAnimation\n",
    "from IPython.display import HTML\n",
    "\n",
    "activity_sliding2 = activity_sliding[-500:]\n",
    "vmin = np.percentile(activity_sliding2, 1)\n",
    "# vmin = 0\n",
    "vmax = np.percentile(activity_sliding2, 99.8)\n",
    "\n",
    "# Assuming frames is a numpy array with shape (num_frames, height, width)\n",
    "frames = np.array(activity_sliding2).copy() \n",
    "\n",
    "fig = plt.figure(figsize=(6, 6))\n",
    "# img = plt.imshow(frames[0], vmin=vmin, vmax=vmax);\n",
    "plt.xticks([]); plt.yticks([])\n",
    "# tight margins\n",
    "plt.margins(0,0)\n",
    "plt.gca().xaxis.set_major_locator(plt.NullLocator())\n",
    "\n",
    "def update(frame):\n",
    "    plot_percolation(all_grids[::2])\n",
    "\n",
    "ani = FuncAnimation(fig, update, frames=all_grids[::2], interval=50)\n",
    "HTML(ani.to_jshtml())"
   ]
  },
  {
   "cell_type": "code",
   "execution_count": null,
   "id": "a2dca61f",
   "metadata": {
    "tags": [
     "no-pdf",
     "remove-cell"
    ]
   },
   "outputs": [],
   "source": [
    "# (Optional) I used this code to export still images, and then make a video from them using\n",
    "# the command-line tool ffmpeg\n",
    "\n",
    "\n",
    "for i in range(len(all_grids[::2]) - 1):\n",
    "    \n",
    "    \n",
    "    out_path = \"private_dump/percolation/frame\" + str(i).zfill(4) + \".png\"\n",
    "\n",
    "    plt.figure()\n",
    "    plot_percolation(all_grids[::2][i])\n",
    "\n",
    "    ax = plt.gca()\n",
    "    ax.set_axis_off()\n",
    "    ax.xaxis.set_major_locator(plt.NullLocator())\n",
    "    ax.yaxis.set_major_locator(plt.NullLocator())\n",
    "    ax.set_aspect(1, adjustable='box')\n",
    "\n",
    "    plt.savefig(out_path, bbox_inches='tight', pad_inches=0.0, dpi=160)\n",
    "    plt.close()\n",
    "\n"
   ]
  },
  {
   "cell_type": "code",
   "execution_count": null,
   "id": "53557b8e",
   "metadata": {
    "tags": [
     "no-pdf",
     "remove-cell"
    ]
   },
   "outputs": [
    {
     "ename": "SyntaxError",
     "evalue": "invalid syntax (1663894352.py, line 6)",
     "output_type": "error",
     "traceback": [
      "\u001b[0;36m  File \u001b[0;32m\"/var/folders/g_/3gcjjjc12l9cjdh8drtctrdm0000gp/T/ipykernel_29627/1663894352.py\"\u001b[0;36m, line \u001b[0;32m6\u001b[0m\n\u001b[0;31m    ffmpeg -r 60 -i private_dump/percolation/frame%04d.png -vf \"scale=trunc(iw/2)*2:trunc(ih/2)*2\" -vcodec libx264 -pix_fmt yuv420p private_dump/percolation/vid2.mov\u001b[0m\n\u001b[0m              ^\u001b[0m\n\u001b[0;31mSyntaxError\u001b[0m\u001b[0;31m:\u001b[0m invalid syntax\n"
     ]
    }
   ],
   "source": [
    "# (Optional) I used this code to stitch the images together into a video. The %%bash magic tells\n",
    "# iPython to treat these lines as bash commands, rather than Python. I then use the \n",
    "# command-line tool `ffmpeg` to stitch the images together into a video.\n",
    "\n",
    "%%bash\n",
    "ffmpeg -r 60 -i private_dump/percolation/frame%04d.png -vf \"scale=trunc(iw/2)*2:trunc(ih/2)*2\" -vcodec libx264 -pix_fmt yuv420p private_dump/percolation/vid2.mov\n"
   ]
  }
 ],
 "metadata": {
  "kernelspec": {
   "display_name": ".venv (3.13.7)",
   "language": "python",
   "name": "python3"
  },
  "language_info": {
   "codemirror_mode": {
    "name": "ipython",
    "version": 3
   },
   "file_extension": ".py",
   "mimetype": "text/x-python",
   "name": "python",
   "nbconvert_exporter": "python",
   "pygments_lexer": "ipython3",
   "version": "3.13.7"
  }
 },
 "nbformat": 4,
 "nbformat_minor": 5
}
